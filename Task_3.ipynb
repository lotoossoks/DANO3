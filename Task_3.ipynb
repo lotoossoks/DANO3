{
 "cells": [
  {
   "cell_type": "code",
   "execution_count": 173,
   "id": "300e28b6",
   "metadata": {},
   "outputs": [],
   "source": [
    "import matplotlib.pyplot as plt\n",
    "import pandas as pd\n",
    "pd.options.mode.chained_assignment = None"
   ]
  },
  {
   "cell_type": "code",
   "execution_count": 174,
   "id": "5ef9120c",
   "metadata": {
    "scrolled": false
   },
   "outputs": [
    {
     "data": {
      "text/html": [
       "<div>\n",
       "<style scoped>\n",
       "    .dataframe tbody tr th:only-of-type {\n",
       "        vertical-align: middle;\n",
       "    }\n",
       "\n",
       "    .dataframe tbody tr th {\n",
       "        vertical-align: top;\n",
       "    }\n",
       "\n",
       "    .dataframe thead th {\n",
       "        text-align: right;\n",
       "    }\n",
       "</style>\n",
       "<table border=\"1\" class=\"dataframe\">\n",
       "  <thead>\n",
       "    <tr style=\"text-align: right;\">\n",
       "      <th></th>\n",
       "      <th>party_rk</th>\n",
       "      <th>purchase_sum</th>\n",
       "      <th>russian_region_nm</th>\n",
       "      <th>russian_region_cd</th>\n",
       "      <th>timediff_to_msk_hour_cnt</th>\n",
       "      <th>russian_federal_district_cd</th>\n",
       "    </tr>\n",
       "  </thead>\n",
       "  <tbody>\n",
       "    <tr>\n",
       "      <th>0</th>\n",
       "      <td>55379140</td>\n",
       "      <td>125139.99000</td>\n",
       "      <td>Москва</td>\n",
       "      <td>77.0</td>\n",
       "      <td>0.0</td>\n",
       "      <td>1.0</td>\n",
       "    </tr>\n",
       "    <tr>\n",
       "      <th>1</th>\n",
       "      <td>262639579</td>\n",
       "      <td>168313.24902</td>\n",
       "      <td>Москва</td>\n",
       "      <td>77.0</td>\n",
       "      <td>0.0</td>\n",
       "      <td>1.0</td>\n",
       "    </tr>\n",
       "    <tr>\n",
       "      <th>2</th>\n",
       "      <td>284800800</td>\n",
       "      <td>11406.34000</td>\n",
       "      <td>Москва</td>\n",
       "      <td>77.0</td>\n",
       "      <td>0.0</td>\n",
       "      <td>1.0</td>\n",
       "    </tr>\n",
       "    <tr>\n",
       "      <th>3</th>\n",
       "      <td>348241166</td>\n",
       "      <td>226707.76105</td>\n",
       "      <td>Москва</td>\n",
       "      <td>77.0</td>\n",
       "      <td>0.0</td>\n",
       "      <td>1.0</td>\n",
       "    </tr>\n",
       "    <tr>\n",
       "      <th>4</th>\n",
       "      <td>260568899</td>\n",
       "      <td>578507.48000</td>\n",
       "      <td>Москва</td>\n",
       "      <td>77.0</td>\n",
       "      <td>0.0</td>\n",
       "      <td>1.0</td>\n",
       "    </tr>\n",
       "    <tr>\n",
       "      <th>...</th>\n",
       "      <td>...</td>\n",
       "      <td>...</td>\n",
       "      <td>...</td>\n",
       "      <td>...</td>\n",
       "      <td>...</td>\n",
       "      <td>...</td>\n",
       "    </tr>\n",
       "    <tr>\n",
       "      <th>9999</th>\n",
       "      <td>302486129</td>\n",
       "      <td>43246.01000</td>\n",
       "      <td>Москва</td>\n",
       "      <td>77.0</td>\n",
       "      <td>0.0</td>\n",
       "      <td>1.0</td>\n",
       "    </tr>\n",
       "    <tr>\n",
       "      <th>10000</th>\n",
       "      <td>268027640</td>\n",
       "      <td>162707.70000</td>\n",
       "      <td>Москва</td>\n",
       "      <td>77.0</td>\n",
       "      <td>0.0</td>\n",
       "      <td>1.0</td>\n",
       "    </tr>\n",
       "    <tr>\n",
       "      <th>10001</th>\n",
       "      <td>363000802</td>\n",
       "      <td>78635.54000</td>\n",
       "      <td>Москва</td>\n",
       "      <td>77.0</td>\n",
       "      <td>0.0</td>\n",
       "      <td>1.0</td>\n",
       "    </tr>\n",
       "    <tr>\n",
       "      <th>10002</th>\n",
       "      <td>154795224</td>\n",
       "      <td>916835.46000</td>\n",
       "      <td>Москва</td>\n",
       "      <td>77.0</td>\n",
       "      <td>0.0</td>\n",
       "      <td>1.0</td>\n",
       "    </tr>\n",
       "    <tr>\n",
       "      <th>10003</th>\n",
       "      <td>117179396</td>\n",
       "      <td>273161.00000</td>\n",
       "      <td>Москва</td>\n",
       "      <td>77.0</td>\n",
       "      <td>0.0</td>\n",
       "      <td>1.0</td>\n",
       "    </tr>\n",
       "  </tbody>\n",
       "</table>\n",
       "<p>10004 rows × 6 columns</p>\n",
       "</div>"
      ],
      "text/plain": [
       "        party_rk  purchase_sum russian_region_nm  russian_region_cd  \\\n",
       "0       55379140  125139.99000            Москва               77.0   \n",
       "1      262639579  168313.24902            Москва               77.0   \n",
       "2      284800800   11406.34000            Москва               77.0   \n",
       "3      348241166  226707.76105            Москва               77.0   \n",
       "4      260568899  578507.48000            Москва               77.0   \n",
       "...          ...           ...               ...                ...   \n",
       "9999   302486129   43246.01000            Москва               77.0   \n",
       "10000  268027640  162707.70000            Москва               77.0   \n",
       "10001  363000802   78635.54000            Москва               77.0   \n",
       "10002  154795224  916835.46000            Москва               77.0   \n",
       "10003  117179396  273161.00000            Москва               77.0   \n",
       "\n",
       "       timediff_to_msk_hour_cnt  russian_federal_district_cd  \n",
       "0                           0.0                          1.0  \n",
       "1                           0.0                          1.0  \n",
       "2                           0.0                          1.0  \n",
       "3                           0.0                          1.0  \n",
       "4                           0.0                          1.0  \n",
       "...                         ...                          ...  \n",
       "9999                        0.0                          1.0  \n",
       "10000                       0.0                          1.0  \n",
       "10001                       0.0                          1.0  \n",
       "10002                       0.0                          1.0  \n",
       "10003                       0.0                          1.0  \n",
       "\n",
       "[10004 rows x 6 columns]"
      ]
     },
     "execution_count": 174,
     "metadata": {},
     "output_type": "execute_result"
    }
   ],
   "source": [
    "df = pd.read_csv(\"https://dano.hse.ru/mirror/pubs/share/602304953.csv\")\n",
    "df"
   ]
  },
  {
   "cell_type": "markdown",
   "id": "8fd4bea3",
   "metadata": {},
   "source": [
    "# Подготовка\n",
    "- Знаем, что будем работать с кодом региона и кодом федерального округа - `russian_region_cd` и `russian_federal_district_cd` соответственно. Для удобства работы сразу приводим к целочисленному типу и проверяем, есть ли среди них пропущенные данные."
   ]
  },
  {
   "cell_type": "code",
   "execution_count": 175,
   "id": "d3509e34",
   "metadata": {},
   "outputs": [
    {
     "name": "stdout",
     "output_type": "stream",
     "text": [
      "[ 1.  2.  7.  5.  6.  8. nan  3.  4.]\n",
      "[77. 51. 42. 43. 50. 76. 74. 52. 41. 54. 47. 72. nan 23. 34. 61.  7. 14.\n",
      " 16. 63.  5.  2. 64. 11. 66. 13. 78. 46. 55. 73. 56. 45. 70. 44. 71. 57.\n",
      " 24. 33. 26. 31. 36. 21. 22. 35. 69. 68. 18. 19.  9.  8. 58. 59. 49. 48.\n",
      " 79. 40. 75. 53. 99. 89. 87. 86. 83. 91. 92. 38. 39. 29. 28. 32. 25. 30.\n",
      " 27. 20. 37. 15. 60.  6. 17.  4. 62. 10.  3. 65. 12.  1. 67.]\n"
     ]
    }
   ],
   "source": [
    "print(df[\"russian_federal_district_cd\"].unique())\n",
    "print(df[\"russian_region_cd\"].unique())"
   ]
  },
  {
   "cell_type": "markdown",
   "id": "5fb0f330",
   "metadata": {},
   "source": [
    "Видим значения `nan` в `russian_federal_district_cd` Удаляем их. Приводим эти поля и `timediff_to_msk_hour_cnt` к целочисленному типу."
   ]
  },
  {
   "cell_type": "code",
   "execution_count": 176,
   "id": "7a75cf72",
   "metadata": {},
   "outputs": [],
   "source": [
    "df = df[~df[\"russian_federal_district_cd\"].isna()]\n",
    "df = df[~df[\"russian_region_cd\"].isna()]\n",
    "df[\"russian_federal_district_cd\"] = df[\"russian_federal_district_cd\"].astype(\"int\")\n",
    "df[\"russian_region_cd\"] = df[\"russian_region_cd\"].astype(\"int\")\n",
    "df[\"timediff_to_msk_hour_cnt\"] = df[\"timediff_to_msk_hour_cnt\"].astype(\"int\")"
   ]
  },
  {
   "cell_type": "markdown",
   "id": "b9d1a02e",
   "metadata": {},
   "source": [
    "# Поиск дублей среди данных"
   ]
  },
  {
   "cell_type": "code",
   "execution_count": 177,
   "id": "45f11f51",
   "metadata": {
    "scrolled": false
   },
   "outputs": [
    {
     "name": "stdout",
     "output_type": "stream",
     "text": [
      "145632455\n",
      "145632455\n",
      "148830292\n",
      "148830292\n",
      "115257196\n",
      "115257196\n",
      "122480825\n",
      "122480825\n"
     ]
    }
   ],
   "source": [
    "for n in df.party_rk:\n",
    "    if len(df[df[\"party_rk\"]==n])>1:\n",
    "        print(n) "
   ]
  },
  {
   "cell_type": "markdown",
   "id": "cdcf713d",
   "metadata": {},
   "source": [
    "# Оценка типа дублей"
   ]
  },
  {
   "cell_type": "code",
   "execution_count": 178,
   "id": "e4713c9b",
   "metadata": {
    "scrolled": false
   },
   "outputs": [
    {
     "data": {
      "text/html": [
       "<div>\n",
       "<style scoped>\n",
       "    .dataframe tbody tr th:only-of-type {\n",
       "        vertical-align: middle;\n",
       "    }\n",
       "\n",
       "    .dataframe tbody tr th {\n",
       "        vertical-align: top;\n",
       "    }\n",
       "\n",
       "    .dataframe thead th {\n",
       "        text-align: right;\n",
       "    }\n",
       "</style>\n",
       "<table border=\"1\" class=\"dataframe\">\n",
       "  <thead>\n",
       "    <tr style=\"text-align: right;\">\n",
       "      <th></th>\n",
       "      <th>party_rk</th>\n",
       "      <th>purchase_sum</th>\n",
       "      <th>russian_region_nm</th>\n",
       "      <th>russian_region_cd</th>\n",
       "      <th>timediff_to_msk_hour_cnt</th>\n",
       "      <th>russian_federal_district_cd</th>\n",
       "    </tr>\n",
       "  </thead>\n",
       "  <tbody>\n",
       "    <tr>\n",
       "      <th>5028</th>\n",
       "      <td>145632455</td>\n",
       "      <td>392055.08</td>\n",
       "      <td>Новгородская область</td>\n",
       "      <td>53</td>\n",
       "      <td>0</td>\n",
       "      <td>2</td>\n",
       "    </tr>\n",
       "    <tr>\n",
       "      <th>5140</th>\n",
       "      <td>145632455</td>\n",
       "      <td>392055.08</td>\n",
       "      <td>Ленинградская область</td>\n",
       "      <td>47</td>\n",
       "      <td>0</td>\n",
       "      <td>2</td>\n",
       "    </tr>\n",
       "  </tbody>\n",
       "</table>\n",
       "</div>"
      ],
      "text/plain": [
       "       party_rk  purchase_sum      russian_region_nm  russian_region_cd  \\\n",
       "5028  145632455     392055.08   Новгородская область                 53   \n",
       "5140  145632455     392055.08  Ленинградская область                 47   \n",
       "\n",
       "      timediff_to_msk_hour_cnt  russian_federal_district_cd  \n",
       "5028                         0                            2  \n",
       "5140                         0                            2  "
      ]
     },
     "metadata": {},
     "output_type": "display_data"
    },
    {
     "data": {
      "text/html": [
       "<div>\n",
       "<style scoped>\n",
       "    .dataframe tbody tr th:only-of-type {\n",
       "        vertical-align: middle;\n",
       "    }\n",
       "\n",
       "    .dataframe tbody tr th {\n",
       "        vertical-align: top;\n",
       "    }\n",
       "\n",
       "    .dataframe thead th {\n",
       "        text-align: right;\n",
       "    }\n",
       "</style>\n",
       "<table border=\"1\" class=\"dataframe\">\n",
       "  <thead>\n",
       "    <tr style=\"text-align: right;\">\n",
       "      <th></th>\n",
       "      <th>party_rk</th>\n",
       "      <th>purchase_sum</th>\n",
       "      <th>russian_region_nm</th>\n",
       "      <th>russian_region_cd</th>\n",
       "      <th>timediff_to_msk_hour_cnt</th>\n",
       "      <th>russian_federal_district_cd</th>\n",
       "    </tr>\n",
       "  </thead>\n",
       "  <tbody>\n",
       "    <tr>\n",
       "      <th>5884</th>\n",
       "      <td>148830292</td>\n",
       "      <td>57523.07</td>\n",
       "      <td>Калининградская область</td>\n",
       "      <td>39</td>\n",
       "      <td>-1</td>\n",
       "      <td>2</td>\n",
       "    </tr>\n",
       "    <tr>\n",
       "      <th>5885</th>\n",
       "      <td>148830292</td>\n",
       "      <td>57523.07</td>\n",
       "      <td>Калининградская область</td>\n",
       "      <td>39</td>\n",
       "      <td>-1</td>\n",
       "      <td>2</td>\n",
       "    </tr>\n",
       "  </tbody>\n",
       "</table>\n",
       "</div>"
      ],
      "text/plain": [
       "       party_rk  purchase_sum        russian_region_nm  russian_region_cd  \\\n",
       "5884  148830292      57523.07  Калининградская область                 39   \n",
       "5885  148830292      57523.07  Калининградская область                 39   \n",
       "\n",
       "      timediff_to_msk_hour_cnt  russian_federal_district_cd  \n",
       "5884                        -1                            2  \n",
       "5885                        -1                            2  "
      ]
     },
     "metadata": {},
     "output_type": "display_data"
    },
    {
     "data": {
      "text/html": [
       "<div>\n",
       "<style scoped>\n",
       "    .dataframe tbody tr th:only-of-type {\n",
       "        vertical-align: middle;\n",
       "    }\n",
       "\n",
       "    .dataframe tbody tr th {\n",
       "        vertical-align: top;\n",
       "    }\n",
       "\n",
       "    .dataframe thead th {\n",
       "        text-align: right;\n",
       "    }\n",
       "</style>\n",
       "<table border=\"1\" class=\"dataframe\">\n",
       "  <thead>\n",
       "    <tr style=\"text-align: right;\">\n",
       "      <th></th>\n",
       "      <th>party_rk</th>\n",
       "      <th>purchase_sum</th>\n",
       "      <th>russian_region_nm</th>\n",
       "      <th>russian_region_cd</th>\n",
       "      <th>timediff_to_msk_hour_cnt</th>\n",
       "      <th>russian_federal_district_cd</th>\n",
       "    </tr>\n",
       "  </thead>\n",
       "  <tbody>\n",
       "    <tr>\n",
       "      <th>7278</th>\n",
       "      <td>115257196</td>\n",
       "      <td>1331253.57</td>\n",
       "      <td>Свердловская область</td>\n",
       "      <td>66</td>\n",
       "      <td>2</td>\n",
       "      <td>6</td>\n",
       "    </tr>\n",
       "    <tr>\n",
       "      <th>7279</th>\n",
       "      <td>115257196</td>\n",
       "      <td>1331253.57</td>\n",
       "      <td>Свердловская область</td>\n",
       "      <td>66</td>\n",
       "      <td>2</td>\n",
       "      <td>6</td>\n",
       "    </tr>\n",
       "  </tbody>\n",
       "</table>\n",
       "</div>"
      ],
      "text/plain": [
       "       party_rk  purchase_sum     russian_region_nm  russian_region_cd  \\\n",
       "7278  115257196    1331253.57  Свердловская область                 66   \n",
       "7279  115257196    1331253.57  Свердловская область                 66   \n",
       "\n",
       "      timediff_to_msk_hour_cnt  russian_federal_district_cd  \n",
       "7278                         2                            6  \n",
       "7279                         2                            6  "
      ]
     },
     "metadata": {},
     "output_type": "display_data"
    },
    {
     "data": {
      "text/html": [
       "<div>\n",
       "<style scoped>\n",
       "    .dataframe tbody tr th:only-of-type {\n",
       "        vertical-align: middle;\n",
       "    }\n",
       "\n",
       "    .dataframe tbody tr th {\n",
       "        vertical-align: top;\n",
       "    }\n",
       "\n",
       "    .dataframe thead th {\n",
       "        text-align: right;\n",
       "    }\n",
       "</style>\n",
       "<table border=\"1\" class=\"dataframe\">\n",
       "  <thead>\n",
       "    <tr style=\"text-align: right;\">\n",
       "      <th></th>\n",
       "      <th>party_rk</th>\n",
       "      <th>purchase_sum</th>\n",
       "      <th>russian_region_nm</th>\n",
       "      <th>russian_region_cd</th>\n",
       "      <th>timediff_to_msk_hour_cnt</th>\n",
       "      <th>russian_federal_district_cd</th>\n",
       "    </tr>\n",
       "  </thead>\n",
       "  <tbody>\n",
       "    <tr>\n",
       "      <th>8582</th>\n",
       "      <td>122480825</td>\n",
       "      <td>128017.23</td>\n",
       "      <td>Московская область</td>\n",
       "      <td>50</td>\n",
       "      <td>0</td>\n",
       "      <td>1</td>\n",
       "    </tr>\n",
       "    <tr>\n",
       "      <th>8733</th>\n",
       "      <td>122480825</td>\n",
       "      <td>128017.23</td>\n",
       "      <td>Москва</td>\n",
       "      <td>77</td>\n",
       "      <td>0</td>\n",
       "      <td>1</td>\n",
       "    </tr>\n",
       "  </tbody>\n",
       "</table>\n",
       "</div>"
      ],
      "text/plain": [
       "       party_rk  purchase_sum   russian_region_nm  russian_region_cd  \\\n",
       "8582  122480825     128017.23  Московская область                 50   \n",
       "8733  122480825     128017.23              Москва                 77   \n",
       "\n",
       "      timediff_to_msk_hour_cnt  russian_federal_district_cd  \n",
       "8582                         0                            1  \n",
       "8733                         0                            1  "
      ]
     },
     "metadata": {},
     "output_type": "display_data"
    }
   ],
   "source": [
    "display(df[df[\"party_rk\"]==145632455])\n",
    "display(df[df[\"party_rk\"]==148830292])\n",
    "display(df[df[\"party_rk\"]==115257196])\n",
    "display(df[df[\"party_rk\"]==122480825])"
   ]
  },
  {
   "cell_type": "markdown",
   "id": "0abf1245",
   "metadata": {},
   "source": [
    "Видим, что вхождения с `party_rk` равным `148830292` и `115257196` полностью идентичны внутри пары, соответственно оставляем любое из вхождений.\n",
    "\n",
    "Вхождения с `party_rk` равным `145632455` и `122480825` отличаются в некоторых полях, их имеет смысл исключить полностью"
   ]
  },
  {
   "cell_type": "code",
   "execution_count": 179,
   "id": "86da10fa",
   "metadata": {},
   "outputs": [
    {
     "name": "stdout",
     "output_type": "stream",
     "text": [
      "8810\n"
     ]
    },
    {
     "data": {
      "text/plain": [
       "8804"
      ]
     },
     "execution_count": 179,
     "metadata": {},
     "output_type": "execute_result"
    }
   ],
   "source": [
    "df = df[~((df[\"party_rk\"] == 122480825) | (df[\"party_rk\"]==145632455) | (df.index == 5884) | (df.index ==7278))]"
   ]
  },
  {
   "cell_type": "markdown",
   "id": "4263ad6c",
   "metadata": {},
   "source": [
    "# Вопрос 1"
   ]
  },
  {
   "cell_type": "code",
   "execution_count": 180,
   "id": "b4ca2736",
   "metadata": {},
   "outputs": [
    {
     "data": {
      "text/plain": [
       "<AxesSubplot:title={'center':'Figure 7'}>"
      ]
     },
     "execution_count": 180,
     "metadata": {},
     "output_type": "execute_result"
    },
    {
     "data": {
      "image/png": "[encoded data removed]",
      "text/plain": [
       "<Figure size 1152x720 with 1 Axes>"
      ]
     },
     "metadata": {
      "needs_background": "light"
     },
     "output_type": "display_data"
    }
   ],
   "source": [
    "fig, ax = plt.subplots(1, 1, figsize=(16, 10))\n",
    "\n",
    "quest1 = pd.DataFrame()\n",
    "df[\"russian_federal_district_cd\"] = df[\"russian_federal_district_cd\"].astype(\"int\") # Приводим код региона к целочисленному типу\n",
    "quest1.index = df[\"russian_federal_district_cd\"].unique() # Используем коды как индекс в фрейме\n",
    "\n",
    "quest1.insert(0, \"q75\", 0)       # Добавляем колонки для квантилей и среднего значения\n",
    "quest1.insert(0, \"mean\", 0)\n",
    "quest1.insert(0, \"median\", 0)    # Медиана является 50-ым квантилем\n",
    "quest1.insert(0, \"q25\", 0)\n",
    "\n",
    "districts = df.groupby(\"russian_federal_district_cd\")[\"purchase_sum\"]\n",
    "\n",
    "for ind, district in districts:                     # Заполняем фрейм\n",
    "    quest1[\"q25\"][ind] = district.quantile(0.25)\n",
    "    quest1[\"mean\"][ind] = district.mean()\n",
    "    quest1[\"median\"][ind] = district.median()\n",
    "    quest1[\"q75\"][ind] = district.quantile(0.75)\n",
    "    \n",
    "quest1.sort_values(by=\"median\", inplace=True)      # Сортируем по медиане\n",
    "quest1.plot(kind=\"bar\", ax=ax, title=\"Figure 7\")"
   ]
  },
  {
   "cell_type": "markdown",
   "id": "54a3f39d",
   "metadata": {},
   "source": [
    "# Вопрос 2-3"
   ]
  },
  {
   "cell_type": "code",
   "execution_count": 181,
   "id": "697c9c13",
   "metadata": {},
   "outputs": [
    {
     "data": {
      "text/plain": [
       "<AxesSubplot:title={'center':'Figure 8'}>"
      ]
     },
     "execution_count": 181,
     "metadata": {},
     "output_type": "execute_result"
    },
    {
     "data": {
      "image/png": "[encoded data removed]",
      "text/plain": [
       "<Figure size 1152x720 with 1 Axes>"
      ]
     },
     "metadata": {
      "needs_background": "light"
     },
     "output_type": "display_data"
    }
   ],
   "source": [
    "fig, ax = plt.subplots(1, 1, figsize=(16, 10))\n",
    "quest2 = pd.DataFrame()\n",
    "quest2.index = df[\"russian_region_cd\"].unique() # Приводим код региона к целочисленному типу\n",
    "quest2.sort_index(inplace=True)\n",
    "quest2.insert(0, \"max\", 0)     # Добавляем колонки для квантилей, максимального значения и медианы\n",
    "quest2.insert(0, \"q95\", 0)      \n",
    "quest2.insert(0, \"q75\", 0)\n",
    "quest2.insert(0, \"median\", 0)\n",
    "quest2.insert(0, \"max_to_median\", 0)\n",
    "\n",
    "regions = df.groupby(\"russian_region_cd\")[\"purchase_sum\"]\n",
    "\n",
    "\n",
    "for ind, region in regions:  # Заполняем фрейм\n",
    "    region = region[region<region.quantile(0.98)] # Убираем выбросы - значения больше 98-го квантиля для каждого региона\n",
    "    quest2[\"max\"][ind] = region.max()\n",
    "    quest2[\"q95\"][ind] = region.quantile(0.95)\n",
    "    quest2[\"median\"][ind] = region.median()\n",
    "    quest2[\"q75\"][ind] = region.quantile(0.75)\n",
    "    quest2[\"max_to_median\"][ind] = region.max()-region.median() # Считаем значения разницы максимального и медианного значения\n",
    "quest2.sort_values(by=\"max_to_median\", ascending = False, inplace=True)\n",
    "quest2.iloc[10::-1].plot(kind=\"bar\", y=[\"median\", \"q75\", \"q95\", \"max\"], ax=ax, title = \"Figure 8\")"
   ]
  },
  {
   "cell_type": "markdown",
   "id": "0fd13f12",
   "metadata": {},
   "source": [
    "# Вопрос 4"
   ]
  },
  {
   "cell_type": "code",
   "execution_count": 182,
   "id": "ac1c09e4",
   "metadata": {},
   "outputs": [
    {
     "data": {
      "text/plain": [
       "<AxesSubplot:>"
      ]
     },
     "execution_count": 182,
     "metadata": {},
     "output_type": "execute_result"
    },
    {
     "data": {
      "image/png": "[encoded data removed]",
      "text/plain": [
       "<Figure size 1152x720 with 1 Axes>"
      ]
     },
     "metadata": {
      "needs_background": "light"
     },
     "output_type": "display_data"
    }
   ],
   "source": [
    "fig, ax = plt.subplots(1, 1, figsize=(16, 10))\n",
    "quest4 = pd.DataFrame()\n",
    "timezones = df.groupby(\"timediff_to_msk_hour_cnt\")[\"purchase_sum\"]\n",
    "for ind, timezone in timezones:\n",
    "    if len(timezone)>66:\n",
    "        timezone = timezone[timezone<timezone.quantile(0.98)]\n",
    "        timezone.rename(ind, inplace=True)\n",
    "        quest4 = pd.concat([quest4, timezone], axis = 1)\n",
    "#         timezone.asframe().boxplot(x=ind, ax=ax)\n",
    "# print(quest4)\n",
    "\n",
    "quest4.boxplot(ax=ax)"
   ]
  }
 ],
 "metadata": {
  "kernelspec": {
   "display_name": "Python 3 (ipykernel)",
   "language": "python",
   "name": "python3"
  },
  "language_info": {
   "codemirror_mode": {
    "name": "ipython",
    "version": 3
   },
   "file_extension": ".py",
   "mimetype": "text/x-python",
   "name": "python",
   "nbconvert_exporter": "python",
   "pygments_lexer": "ipython3",
   "version": "3.8.2"
  }
 },
 "nbformat": 4,
 "nbformat_minor": 5
}
